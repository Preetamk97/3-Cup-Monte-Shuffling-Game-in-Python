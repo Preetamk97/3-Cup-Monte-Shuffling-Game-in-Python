{
 "cells": [
  {
   "cell_type": "markdown",
   "metadata": {},
   "source": [
    "**3 Cup Monte Shuffling Game is a carnival guessing game in which there are 3 cups which are shuffled and we have to guess\n",
    "under which cup is our Red Ball! So, now we are gona create a replica of that game in python using 3 different functions.\n",
    "There will be 3 positions in a list, one of which is an 'O', a function will shuffle the list, another will take a player's guess, and finally another will check to see if it is correct.**"
   ]
  },
  {
   "cell_type": "markdown",
   "metadata": {},
   "source": [
    "**This is an example of interaction between different Python Functions.**"
   ]
  },
  {
   "cell_type": "markdown",
   "metadata": {},
   "source": [
    "**Let's create our simple game!** "
   ]
  },
  {
   "cell_type": "code",
   "execution_count": 59,
   "metadata": {},
   "outputs": [
    {
     "name": "stdout",
     "output_type": "stream",
     "text": [
      "Pick a number between 0, 1, or 2: 0\n",
      "Sorry! Better luck next time!\n",
      "['', 'O', '']\n"
     ]
    }
   ],
   "source": [
    "# 1. Creating the Shuffling Function.\n",
    "#-------------------------------------------------------------------------------------\n",
    "\n",
    "my_list = ['','','O'] \n",
    "#Declare a list with 2 empty strings and a \"o\".\n",
    "\n",
    "from random import shuffle \n",
    "# From 'Random' library import 'shuffle()' function.\n",
    "# Now, you CANNOT use this shuffle() function directly. For that you have to define a function first.\n",
    "\n",
    "def shuffle_list(my_list): \n",
    "    \n",
    "    shuffle(my_list)\n",
    "    \n",
    "    return my_list \n",
    "\n",
    "my_list = shuffle_list(my_list) \n",
    "# Now we are saying to update 'my_list' to whatever output I get from running the function shuffle_list(my_list).\n",
    "# This step is very important!\n",
    "\n",
    "# 2. Creating the User Input Function\n",
    "#---------------------------------------------------------------------------------------\n",
    "\n",
    "guess = int(input ('Pick a number between 0, 1, or 2: '))\n",
    "# Take a user input. Python will take this input in the form of a 'string' by default.\n",
    "# convert this input into a integer by using int() function \n",
    "# and store the item inside the variable name \"guess\".\n",
    "\n",
    "def player_guess(guess):\n",
    "# The work of this function is to check \n",
    "# whether the 'guess' value entered by the user falls between [0,1,2] or not\n",
    "\n",
    "    while guess not in [0,1,2]:\n",
    "        guess = int(input ('Pick a number between 0, 1, or 2: '))\n",
    "        \n",
    "    # while the guess value (entered by the user) is 'not in [0,1,2]'\n",
    "    # keep asking for input again and again.\n",
    "    \n",
    "    return guess\n",
    "    # After getting out of the while loop, return the last guess value.\n",
    "\n",
    "guess = player_guess(guess)\n",
    "# Whatever the value we get out of the function player_guess(guess),\n",
    "# take this value as the new value of 'guess' variable.\n",
    "\n",
    "# 3. Connecting both the Functions above.\n",
    "#-------------------------------------------------------------------------------------\n",
    "\n",
    "def check_guess():\n",
    "# We can always define a function without giving any argument. \n",
    "    \n",
    "    if my_list[guess] == 'O':\n",
    "        # It means if, in SHUFFLED my_list, the string at our user's 'guess' index value is equal to 'O' then...\n",
    "        # Here, we are using the output we got out of both the previously defined functions.\n",
    "        \n",
    "        print (\"Correct Guess!\")\n",
    "    \n",
    "    else:\n",
    "        print('Sorry! Better luck next time!')\n",
    "        print(my_list)\n",
    "\n",
    "check_guess()\n",
    "# In order to run this function, you have to call this function!"
   ]
  }
 ],
 "metadata": {
  "kernelspec": {
   "display_name": "Python 3",
   "language": "python",
   "name": "python3"
  },
  "language_info": {
   "codemirror_mode": {
    "name": "ipython",
    "version": 3
   },
   "file_extension": ".py",
   "mimetype": "text/x-python",
   "name": "python",
   "nbconvert_exporter": "python",
   "pygments_lexer": "ipython3",
   "version": "3.7.3"
  }
 },
 "nbformat": 4,
 "nbformat_minor": 2
}
